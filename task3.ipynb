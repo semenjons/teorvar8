{
 "cells": [
  {
   "attachments": {},
   "cell_type": "markdown",
   "metadata": {},
   "source": [
    "3. Известно, что рост футболистов в сборной распределен нормально с дисперсией генеральной совокупности, равной 25 кв.см. \n",
    "Объем выборки равен 27, среднее выборочное составляет 174.2.\n",
    " Найдите доверительный интервал для математического ожидания с надежностью 0.95\n",
    "\n",
    " sigma = 25\n",
    " n = 27\n",
    " X_l = 174.2\n",
    " a = 1-0.95 = 0.05\n",
    " формула расчета Xср +- Z(a/2)  * sigma / sqrt(n)\n",
    "a/2 = 0.025 - ищем в таблице значение Z , оно равно 1,96\n",
    "Z = 1.96\n"
   ]
  },
  {
   "cell_type": "code",
   "execution_count": 3,
   "metadata": {},
   "outputs": [
    {
     "name": "stdout",
     "output_type": "stream",
     "text": [
      "доверительный интервал \n"
     ]
    },
    {
     "data": {
      "text/plain": [
       "(176.08601087935276, 172.31398912064722)"
      ]
     },
     "execution_count": 3,
     "metadata": {},
     "output_type": "execute_result"
    }
   ],
   "source": [
    "from math import sqrt\n",
    "Z = 1.96 # следует из таблицы \n",
    "sigma = sqrt(25)\n",
    "n = 27\n",
    "X_l = 174.2\n",
    "X_1 = Z * (sigma/sqrt(n))\n",
    "k = X_l + X_1\n",
    "k_1 = X_l - X_1\n",
    "\n",
    "print(\"доверительный интервал \")\n",
    "k,k_1"
   ]
  }
 ],
 "metadata": {
  "kernelspec": {
   "display_name": ".folder",
   "language": "python",
   "name": "python3"
  },
  "language_info": {
   "codemirror_mode": {
    "name": "ipython",
    "version": 3
   },
   "file_extension": ".py",
   "mimetype": "text/x-python",
   "name": "python",
   "nbconvert_exporter": "python",
   "pygments_lexer": "ipython3",
   "version": "3.11.2"
  },
  "orig_nbformat": 4,
  "vscode": {
   "interpreter": {
    "hash": "473553e28e5b363d575e92da535f1f161aa2132f3ee15a8dbf1484ed06349749"
   }
  }
 },
 "nbformat": 4,
 "nbformat_minor": 2
}
